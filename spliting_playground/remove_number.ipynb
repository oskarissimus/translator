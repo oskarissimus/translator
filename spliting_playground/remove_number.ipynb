{
 "cells": [
  {
   "cell_type": "code",
   "execution_count": 1,
   "metadata": {},
   "outputs": [],
   "source": [
    "import os\n",
    "\n",
    "directory = '/home/oskar/git/translator/spliting_playground/translated/pages'\n",
    "\n",
    "for filename in os.listdir(directory):\n",
    "    if '_' in filename:\n",
    "        new_filename = filename.split('_')[1]\n",
    "        os.rename(os.path.join(directory, filename), os.path.join(directory, new_filename))\n"
   ]
  }
 ],
 "metadata": {
  "kernelspec": {
   "display_name": "translator-0KSzPpG1-py3.10",
   "language": "python",
   "name": "python3"
  },
  "language_info": {
   "codemirror_mode": {
    "name": "ipython",
    "version": 3
   },
   "file_extension": ".py",
   "mimetype": "text/x-python",
   "name": "python",
   "nbconvert_exporter": "python",
   "pygments_lexer": "ipython3",
   "version": "3.10.12"
  }
 },
 "nbformat": 4,
 "nbformat_minor": 2
}
