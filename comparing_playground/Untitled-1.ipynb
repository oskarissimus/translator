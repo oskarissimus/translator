{
 "cells": [
  {
   "cell_type": "code",
   "execution_count": 3,
   "metadata": {},
   "outputs": [
    {
     "name": "stdout",
     "output_type": "stream",
     "text": [
      "Entries with the same msgid: 1581\n",
      "Entries only in en.po: 0\n",
      "Entries only in pl.po: 0\n"
     ]
    }
   ],
   "source": [
    "import polib\n",
    "\n",
    "# Open the PO files\n",
    "en_po_file = polib.pofile('en.po')\n",
    "pl_po_file = polib.pofile('pl.po')\n",
    "\n",
    "# Initialize counters\n",
    "same_msgid_count = 0\n",
    "en_only_count = 0\n",
    "pl_only_count = 0\n",
    "\n",
    "# Iterate over entries and compare\n",
    "for en_po_entry in en_po_file:\n",
    "    found = False\n",
    "    for pl_po_entry in pl_po_file:\n",
    "        if en_po_entry.msgid == pl_po_entry.msgid:\n",
    "            same_msgid_count += 1\n",
    "            found = True\n",
    "            break\n",
    "    if not found:\n",
    "        en_only_count += 1\n",
    "\n",
    "# Count entries only in \"pl.po\"\n",
    "pl_only_count = len(pl_po_file) - same_msgid_count\n",
    "\n",
    "# Print the results\n",
    "print(f\"Entries with the same msgid: {same_msgid_count}\")\n",
    "print(f\"Entries only in en.po: {en_only_count}\")\n",
    "print(f\"Entries only in pl.po: {pl_only_count}\")\n",
    "\n"
   ]
  },
  {
   "cell_type": "code",
   "execution_count": 4,
   "metadata": {},
   "outputs": [],
   "source": [
    "import polib\n",
    "\n",
    "# Open the PO files\n",
    "en_po_file = polib.pofile('en.po')\n",
    "pl_po_file = polib.pofile('pl.po')\n",
    "\n",
    "# Create a new PO file for sorted entries\n",
    "pl_sorted_po_file = polib.POFile()\n",
    "\n",
    "# Iterate over entries in en.po and find the corresponding entry in pl.po\n",
    "for en_po_entry in en_po_file:\n",
    "    for pl_po_entry in pl_po_file:\n",
    "        if en_po_entry.msgid == pl_po_entry.msgid:\n",
    "            pl_sorted_po_file.append(pl_po_entry)\n",
    "            break\n",
    "\n",
    "# Save the sorted PO file\n",
    "pl_sorted_po_file.save('pl_sorted.po')\n"
   ]
  },
  {
   "cell_type": "code",
   "execution_count": 14,
   "metadata": {},
   "outputs": [
    {
     "name": "stdout",
     "output_type": "stream",
     "text": [
      "Saved the PO file as /home/oskar/git/futurecoder/translations/locales/pl/LC_MESSAGES/futurecoder.mo\n"
     ]
    }
   ],
   "source": [
    "import polib\n",
    "\n",
    "# Open the PO file\n",
    "po_file = polib.pofile('pl_sorted.po')\n",
    "\n",
    "# Save the PO file as a .mo file\n",
    "mo_file_path = \"/home/oskar/git/futurecoder/translations/locales/pl/LC_MESSAGES/futurecoder.mo\"\n",
    "po_file.save_as_mofile(mo_file_path)\n",
    "\n",
    "print(f\"Saved the PO file as {mo_file_path}\")\n"
   ]
  },
  {
   "cell_type": "code",
   "execution_count": null,
   "metadata": {},
   "outputs": [],
   "source": []
  }
 ],
 "metadata": {
  "kernelspec": {
   "display_name": "translator-0KSzPpG1-py3.10",
   "language": "python",
   "name": "python3"
  },
  "language_info": {
   "codemirror_mode": {
    "name": "ipython",
    "version": 3
   },
   "file_extension": ".py",
   "mimetype": "text/x-python",
   "name": "python",
   "nbconvert_exporter": "python",
   "pygments_lexer": "ipython3",
   "version": "3.10.12"
  }
 },
 "nbformat": 4,
 "nbformat_minor": 2
}
