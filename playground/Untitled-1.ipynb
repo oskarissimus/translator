{
 "cells": [
  {
   "cell_type": "code",
   "execution_count": 11,
   "metadata": {},
   "outputs": [],
   "source": [
    "from collections import defaultdict\n",
    "import polib\n",
    "filename = './futurecoder_Polish.po'\n",
    "\n",
    "po = polib.pofile(filename)\n",
    "order = []\n",
    "pages = defaultdict(list)\n",
    "for entry in po:\n",
    "    msgid_splitted = entry.msgid.split(\".\")\n",
    "    if msgid_splitted[0] == \"pages\":\n",
    "        pages[msgid_splitted[1]].append(entry)\n",
    "        if msgid_splitted[1] not in order:\n",
    "            order.append(msgid_splitted[1])\n",
    "\n",
    "\n",
    "# make new po files for each page\n",
    "for page in pages:\n",
    "    po = polib.POFile()\n",
    "    for entry in pages[page]:\n",
    "        po.append(entry)\n",
    "    page_number = order.index(page) + 1\n",
    "    po.save(f'pages/{page_number}_{page}.po')\n"
   ]
  },
  {
   "cell_type": "code",
   "execution_count": 18,
   "metadata": {},
   "outputs": [],
   "source": [
    "filename = './futurecoder_Polish.po'\n",
    "po = polib.pofile(filename)\n",
    "categories = set()\n",
    "entries_per_category = defaultdict(list)\n",
    "for entry in po:\n",
    "    msgid_splitted = entry.msgid.split(\".\")\n",
    "    category = msgid_splitted[0]\n",
    "    entries_per_category[category].append(entry)\n",
    "\n",
    "filtered = {category: entries for category, entries in entries_per_category.items() if category != \"pages\"}\n",
    "# make new po files for each category\n",
    "for category in filtered:\n",
    "    po = polib.POFile()\n",
    "    for entry in filtered[category]:\n",
    "        po.append(entry)\n",
    "    po.save(f'categories/{category}.po')"
   ]
  },
  {
   "cell_type": "code",
   "execution_count": null,
   "metadata": {},
   "outputs": [],
   "source": []
  }
 ],
 "metadata": {
  "kernelspec": {
   "display_name": "translator-0KSzPpG1-py3.10",
   "language": "python",
   "name": "python3"
  },
  "language_info": {
   "codemirror_mode": {
    "name": "ipython",
    "version": 3
   },
   "file_extension": ".py",
   "mimetype": "text/x-python",
   "name": "python",
   "nbconvert_exporter": "python",
   "pygments_lexer": "ipython3",
   "version": "3.10.12"
  },
  "orig_nbformat": 4
 },
 "nbformat": 4,
 "nbformat_minor": 2
}
