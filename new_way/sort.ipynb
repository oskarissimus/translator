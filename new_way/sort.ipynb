{
 "cells": [
  {
   "cell_type": "code",
   "execution_count": 2,
   "metadata": {},
   "outputs": [],
   "source": [
    "import polib\n",
    "\n",
    "# Open the PO file\n",
    "po_file_path = \"./pl.po\"\n",
    "po = polib.pofile(po_file_path)\n",
    "\n",
    "# Sort the entries by msgid\n",
    "po_entries_sorted = sorted(po, key=lambda entry: entry.msgid)\n",
    "\n",
    "# Save the sorted entries to a new PO file\n",
    "po_sorted = polib.POFile()\n",
    "po_sorted.metadata = po.metadata\n",
    "po_sorted.extend(po_entries_sorted)\n",
    "po_sorted.save(\"./pl.po\")\n"
   ]
  }
 ],
 "metadata": {
  "kernelspec": {
   "display_name": "translator-0KSzPpG1-py3.10",
   "language": "python",
   "name": "python3"
  },
  "language_info": {
   "codemirror_mode": {
    "name": "ipython",
    "version": 3
   },
   "file_extension": ".py",
   "mimetype": "text/x-python",
   "name": "python",
   "nbconvert_exporter": "python",
   "pygments_lexer": "ipython3",
   "version": "3.10.12"
  }
 },
 "nbformat": 4,
 "nbformat_minor": 2
}
