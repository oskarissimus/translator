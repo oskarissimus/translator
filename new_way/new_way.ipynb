{
 "cells": [
  {
   "cell_type": "code",
   "execution_count": 12,
   "metadata": {},
   "outputs": [],
   "source": [
    "mo_file_path = \"/home/oskar/git/futurecoder/translations/locales/en/LC_MESSAGES/futurecoder.mo\"\n",
    "po_file_path = \"./en.po\"\n",
    "\n",
    "import polib\n",
    "# open mofile\n",
    "po = polib.mofile(mo_file_path)\n",
    "# convert to po file\n",
    "po.save_as_pofile(po_file_path)\n",
    "\n"
   ]
  },
  {
   "cell_type": "code",
   "execution_count": 10,
   "metadata": {},
   "outputs": [
    {
     "name": "stdout",
     "output_type": "stream",
     "text": [
      "STDOUT:\n",
      " Generating files...\n",
      "Done.\n",
      "\u001b[1m============================= test session starts ==============================\u001b[0m\n",
      "platform linux -- Python 3.11.2, pytest-7.3.1, pluggy-1.0.0\n",
      "rootdir: /home/oskar/git/futurecoder\n",
      "configfile: pytest.ini\n",
      "collected 1 item\n",
      "\n",
      "tests/test_steps.py \u001b[32m.\u001b[0m\u001b[32m                                                    [100%]\u001b[0m\n",
      "\n",
      "\u001b[32m============================== \u001b[32m\u001b[1m1 passed\u001b[0m\u001b[32m in 1.85s\u001b[0m\u001b[32m ===============================\u001b[0m\n",
      "\n",
      "STDERR:\n",
      " + poetry run python -m translations.generate_po_file\n",
      "+ export FIX_CORE_IMPORTS=1\n",
      "+ FIX_CORE_IMPORTS=1\n",
      "+ export FIX_TESTS=1\n",
      "+ FIX_TESTS=1\n",
      "+ for lang in ${FUTURECODER_LANGUAGES:-en}\n",
      "+ export FUTURECODER_LANGUAGE=pl\n",
      "+ FUTURECODER_LANGUAGE=pl\n",
      "+ poetry run python -m scripts.generate_static_files\n",
      "+ poetry run pytest tests/test_steps.py\n",
      "\n"
     ]
    }
   ],
   "source": [
    "mo_file_path = \"/home/oskar/git/futurecoder/translations/locales/pl/LC_MESSAGES/futurecoder.mo\"\n",
    "po_file_path = \"./translated.po\"\n",
    "\n",
    "import polib\n",
    "po = polib.pofile(po_file_path)\n",
    "po.save_as_mofile(mo_file_path)\n",
    "\n",
    "\n",
    "import subprocess\n",
    "\n",
    "def run_shell_command(command):\n",
    "    try:\n",
    "        process = subprocess.Popen(\n",
    "            command, shell=True,\n",
    "            stdout=subprocess.PIPE,\n",
    "            stderr=subprocess.PIPE,\n",
    "            cwd=\"/home/oskar/git/futurecoder\"\n",
    "        )\n",
    "        stdout, stderr = process.communicate()\n",
    "\n",
    "        stdout = stdout.decode('utf-8')\n",
    "        stderr = stderr.decode('utf-8')\n",
    "\n",
    "        print(\"STDOUT:\\n\", stdout)\n",
    "        print(\"STDERR:\\n\", stderr)\n",
    "\n",
    "    except Exception as e:\n",
    "        print(\"An error occurred:\", e)\n",
    "\n",
    "run_shell_command(\"poetry run dotenv run ./scripts/generate.sh\")\n",
    "\n"
   ]
  },
  {
   "cell_type": "code",
   "execution_count": null,
   "metadata": {},
   "outputs": [],
   "source": []
  }
 ],
 "metadata": {
  "kernelspec": {
   "display_name": "translator-0KSzPpG1-py3.10",
   "language": "python",
   "name": "python3"
  },
  "language_info": {
   "codemirror_mode": {
    "name": "ipython",
    "version": 3
   },
   "file_extension": ".py",
   "mimetype": "text/x-python",
   "name": "python",
   "nbconvert_exporter": "python",
   "pygments_lexer": "ipython3",
   "version": "3.10.12"
  }
 },
 "nbformat": 4,
 "nbformat_minor": 2
}
